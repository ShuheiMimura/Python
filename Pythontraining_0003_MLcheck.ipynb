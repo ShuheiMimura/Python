{
 "cells": [
  {
   "cell_type": "markdown",
   "id": "33bfdac3",
   "metadata": {},
   "source": [
    "# PythonTraining_0003_machine learning"
   ]
  },
  {
   "cell_type": "markdown",
   "id": "908f5673",
   "metadata": {},
   "source": [
    "## ボストン市の住宅価格データ（Boston house prices dataset）を用意する\n",
    "\n",
    "Prepare the Boston house prices dataset."
   ]
  },
  {
   "cell_type": "markdown",
   "id": "beb5d773",
   "metadata": {},
   "source": [
    "モジュールを読み込む / import modules"
   ]
  },
  {
   "cell_type": "code",
   "execution_count": 1,
   "id": "064652e2",
   "metadata": {},
   "outputs": [
    {
     "name": "stderr",
     "output_type": "stream",
     "text": [
      "/usr/local/lib/python3.7/site-packages/sklearn/feature_extraction/image.py:167: DeprecationWarning: `np.int` is a deprecated alias for the builtin `int`. To silence this warning, use `int` by itself. Doing this will not modify any behavior and is safe. When replacing `np.int`, you may wish to use e.g. `np.int64` or `np.int32` to specify the precision. If you wish to review your current use, check the release note link for additional information.\n",
      "Deprecated in NumPy 1.20; for more details and guidance: https://numpy.org/devdocs/release/1.20.0-notes.html#deprecations\n",
      "  dtype=np.int):\n",
      "/usr/local/lib/python3.7/site-packages/sklearn/linear_model/least_angle.py:35: DeprecationWarning: `np.float` is a deprecated alias for the builtin `float`. To silence this warning, use `float` by itself. Doing this will not modify any behavior and is safe. If you specifically wanted the numpy scalar type, use `np.float64` here.\n",
      "Deprecated in NumPy 1.20; for more details and guidance: https://numpy.org/devdocs/release/1.20.0-notes.html#deprecations\n",
      "  eps=np.finfo(np.float).eps,\n",
      "/usr/local/lib/python3.7/site-packages/sklearn/linear_model/least_angle.py:597: DeprecationWarning: `np.float` is a deprecated alias for the builtin `float`. To silence this warning, use `float` by itself. Doing this will not modify any behavior and is safe. If you specifically wanted the numpy scalar type, use `np.float64` here.\n",
      "Deprecated in NumPy 1.20; for more details and guidance: https://numpy.org/devdocs/release/1.20.0-notes.html#deprecations\n",
      "  eps=np.finfo(np.float).eps, copy_X=True, fit_path=True,\n",
      "/usr/local/lib/python3.7/site-packages/sklearn/linear_model/least_angle.py:836: DeprecationWarning: `np.float` is a deprecated alias for the builtin `float`. To silence this warning, use `float` by itself. Doing this will not modify any behavior and is safe. If you specifically wanted the numpy scalar type, use `np.float64` here.\n",
      "Deprecated in NumPy 1.20; for more details and guidance: https://numpy.org/devdocs/release/1.20.0-notes.html#deprecations\n",
      "  eps=np.finfo(np.float).eps, copy_X=True, fit_path=True,\n",
      "/usr/local/lib/python3.7/site-packages/sklearn/linear_model/least_angle.py:862: DeprecationWarning: `np.float` is a deprecated alias for the builtin `float`. To silence this warning, use `float` by itself. Doing this will not modify any behavior and is safe. If you specifically wanted the numpy scalar type, use `np.float64` here.\n",
      "Deprecated in NumPy 1.20; for more details and guidance: https://numpy.org/devdocs/release/1.20.0-notes.html#deprecations\n",
      "  eps=np.finfo(np.float).eps, positive=False):\n",
      "/usr/local/lib/python3.7/site-packages/sklearn/linear_model/least_angle.py:1097: DeprecationWarning: `np.float` is a deprecated alias for the builtin `float`. To silence this warning, use `float` by itself. Doing this will not modify any behavior and is safe. If you specifically wanted the numpy scalar type, use `np.float64` here.\n",
      "Deprecated in NumPy 1.20; for more details and guidance: https://numpy.org/devdocs/release/1.20.0-notes.html#deprecations\n",
      "  max_n_alphas=1000, n_jobs=None, eps=np.finfo(np.float).eps,\n",
      "/usr/local/lib/python3.7/site-packages/sklearn/linear_model/least_angle.py:1344: DeprecationWarning: `np.float` is a deprecated alias for the builtin `float`. To silence this warning, use `float` by itself. Doing this will not modify any behavior and is safe. If you specifically wanted the numpy scalar type, use `np.float64` here.\n",
      "Deprecated in NumPy 1.20; for more details and guidance: https://numpy.org/devdocs/release/1.20.0-notes.html#deprecations\n",
      "  max_n_alphas=1000, n_jobs=None, eps=np.finfo(np.float).eps,\n",
      "/usr/local/lib/python3.7/site-packages/sklearn/linear_model/least_angle.py:1480: DeprecationWarning: `np.float` is a deprecated alias for the builtin `float`. To silence this warning, use `float` by itself. Doing this will not modify any behavior and is safe. If you specifically wanted the numpy scalar type, use `np.float64` here.\n",
      "Deprecated in NumPy 1.20; for more details and guidance: https://numpy.org/devdocs/release/1.20.0-notes.html#deprecations\n",
      "  eps=np.finfo(np.float).eps, copy_X=True, positive=False):\n",
      "/usr/local/lib/python3.7/site-packages/sklearn/linear_model/randomized_l1.py:152: DeprecationWarning: `np.float` is a deprecated alias for the builtin `float`. To silence this warning, use `float` by itself. Doing this will not modify any behavior and is safe. If you specifically wanted the numpy scalar type, use `np.float64` here.\n",
      "Deprecated in NumPy 1.20; for more details and guidance: https://numpy.org/devdocs/release/1.20.0-notes.html#deprecations\n",
      "  precompute=False, eps=np.finfo(np.float).eps,\n",
      "/usr/local/lib/python3.7/site-packages/sklearn/linear_model/randomized_l1.py:320: DeprecationWarning: `np.float` is a deprecated alias for the builtin `float`. To silence this warning, use `float` by itself. Doing this will not modify any behavior and is safe. If you specifically wanted the numpy scalar type, use `np.float64` here.\n",
      "Deprecated in NumPy 1.20; for more details and guidance: https://numpy.org/devdocs/release/1.20.0-notes.html#deprecations\n",
      "  eps=np.finfo(np.float).eps, random_state=None,\n",
      "/usr/local/lib/python3.7/site-packages/sklearn/linear_model/randomized_l1.py:580: DeprecationWarning: `np.float` is a deprecated alias for the builtin `float`. To silence this warning, use `float` by itself. Doing this will not modify any behavior and is safe. If you specifically wanted the numpy scalar type, use `np.float64` here.\n",
      "Deprecated in NumPy 1.20; for more details and guidance: https://numpy.org/devdocs/release/1.20.0-notes.html#deprecations\n",
      "  eps=4 * np.finfo(np.float).eps, n_jobs=None,\n",
      "/usr/local/lib/python3.7/site-packages/sklearn/ensemble/gradient_boosting.py:34: DeprecationWarning: `np.bool` is a deprecated alias for the builtin `bool`. To silence this warning, use `bool` by itself. Doing this will not modify any behavior and is safe. If you specifically wanted the numpy scalar type, use `np.bool_` here.\n",
      "Deprecated in NumPy 1.20; for more details and guidance: https://numpy.org/devdocs/release/1.20.0-notes.html#deprecations\n",
      "  from ._gradient_boosting import predict_stages\n",
      "/usr/local/lib/python3.7/site-packages/sklearn/ensemble/gradient_boosting.py:34: DeprecationWarning: `np.bool` is a deprecated alias for the builtin `bool`. To silence this warning, use `bool` by itself. Doing this will not modify any behavior and is safe. If you specifically wanted the numpy scalar type, use `np.bool_` here.\n",
      "Deprecated in NumPy 1.20; for more details and guidance: https://numpy.org/devdocs/release/1.20.0-notes.html#deprecations\n",
      "  from ._gradient_boosting import predict_stages\n"
     ]
    }
   ],
   "source": [
    "%matplotlib inline\n",
    "import numpy as np\n",
    "import pandas as pd\n",
    "import matplotlib.pyplot as plt\n",
    "from sklearn.datasets import load_boston\n",
    "from sklearn.model_selection import train_test_split\n",
    "from sklearn.linear_model import LinearRegression\n",
    "from sklearn.tree import DecisionTreeRegressor\n",
    "from sklearn.ensemble import RandomForestRegressor\n",
    "from sklearn.neural_network import MLPRegressor"
   ]
  },
  {
   "cell_type": "markdown",
   "id": "e2c1e82a",
   "metadata": {},
   "source": [
    "サンプルデータセットを読み込む / load the sample dataset"
   ]
  },
  {
   "cell_type": "code",
   "execution_count": 2,
   "id": "eef1a8f4",
   "metadata": {},
   "outputs": [],
   "source": [
    "boston = load_boston()"
   ]
  },
  {
   "cell_type": "markdown",
   "id": "5b66df69",
   "metadata": {},
   "source": [
    "説明変数をDataFrame dfとして読み込む / load the explanatory as DataFrame(df)."
   ]
  },
  {
   "cell_type": "code",
   "execution_count": 3,
   "id": "aa069e60",
   "metadata": {},
   "outputs": [],
   "source": [
    "(type your code here)"
   ]
  },
  {
   "cell_type": "markdown",
   "id": "d2d7db11",
   "metadata": {},
   "source": [
    "目的変数（住宅価格）をnp.array trgをして読み込む / Load response variable, it is House price, as np,array trg"
   ]
  },
  {
   "cell_type": "code",
   "execution_count": 4,
   "id": "889360d2",
   "metadata": {},
   "outputs": [],
   "source": [
    "(type your code here)"
   ]
  },
  {
   "cell_type": "markdown",
   "id": "5cd948c2",
   "metadata": {},
   "source": [
    "## データの概要を理解する / Understand the data overview."
   ]
  },
  {
   "cell_type": "markdown",
   "id": "394b87ba",
   "metadata": {},
   "source": [
    "データに付属している説明を見て、各変数を理解する / Understand each variable by looking at the description that comes with the data."
   ]
  },
  {
   "cell_type": "code",
   "execution_count": 5,
   "id": "5f82a2f5",
   "metadata": {
    "scrolled": true
   },
   "outputs": [
    {
     "name": "stdout",
     "output_type": "stream",
     "text": [
      ".. _boston_dataset:\n",
      "\n",
      "Boston house prices dataset\n",
      "---------------------------\n",
      "\n",
      "**Data Set Characteristics:**  \n",
      "\n",
      "    :Number of Instances: 506 \n",
      "\n",
      "    :Number of Attributes: 13 numeric/categorical predictive. Median Value (attribute 14) is usually the target.\n",
      "\n",
      "    :Attribute Information (in order):\n",
      "        - CRIM     per capita crime rate by town\n",
      "        - ZN       proportion of residential land zoned for lots over 25,000 sq.ft.\n",
      "        - INDUS    proportion of non-retail business acres per town\n",
      "        - CHAS     Charles River dummy variable (= 1 if tract bounds river; 0 otherwise)\n",
      "        - NOX      nitric oxides concentration (parts per 10 million)\n",
      "        - RM       average number of rooms per dwelling\n",
      "        - AGE      proportion of owner-occupied units built prior to 1940\n",
      "        - DIS      weighted distances to five Boston employment centres\n",
      "        - RAD      index of accessibility to radial highways\n",
      "        - TAX      full-value property-tax rate per $10,000\n",
      "        - PTRATIO  pupil-teacher ratio by town\n",
      "        - B        1000(Bk - 0.63)^2 where Bk is the proportion of blacks by town\n",
      "        - LSTAT    % lower status of the population\n",
      "        - MEDV     Median value of owner-occupied homes in $1000's\n",
      "\n",
      "    :Missing Attribute Values: None\n",
      "\n",
      "    :Creator: Harrison, D. and Rubinfeld, D.L.\n",
      "\n",
      "This is a copy of UCI ML housing dataset.\n",
      "https://archive.ics.uci.edu/ml/machine-learning-databases/housing/\n",
      "\n",
      "\n",
      "This dataset was taken from the StatLib library which is maintained at Carnegie Mellon University.\n",
      "\n",
      "The Boston house-price data of Harrison, D. and Rubinfeld, D.L. 'Hedonic\n",
      "prices and the demand for clean air', J. Environ. Economics & Management,\n",
      "vol.5, 81-102, 1978.   Used in Belsley, Kuh & Welsch, 'Regression diagnostics\n",
      "...', Wiley, 1980.   N.B. Various transformations are used in the table on\n",
      "pages 244-261 of the latter.\n",
      "\n",
      "The Boston house-price data has been used in many machine learning papers that address regression\n",
      "problems.   \n",
      "     \n",
      ".. topic:: References\n",
      "\n",
      "   - Belsley, Kuh & Welsch, 'Regression diagnostics: Identifying Influential Data and Sources of Collinearity', Wiley, 1980. 244-261.\n",
      "   - Quinlan,R. (1993). Combining Instance-Based and Model-Based Learning. In Proceedings on the Tenth International Conference of Machine Learning, 236-243, University of Massachusetts, Amherst. Morgan Kaufmann.\n",
      "\n"
     ]
    }
   ],
   "source": [
    "print(boston.DESCR)"
   ]
  },
  {
   "cell_type": "markdown",
   "id": "f150edd0",
   "metadata": {},
   "source": [
    "データの5行目まで表示する / Show up to 5th row of data. You can check the column names and values."
   ]
  },
  {
   "cell_type": "code",
   "execution_count": 6,
   "id": "fb889fb8",
   "metadata": {
    "scrolled": true
   },
   "outputs": [
    {
     "data": {
      "text/html": [
       "<div>\n",
       "<style scoped>\n",
       "    .dataframe tbody tr th:only-of-type {\n",
       "        vertical-align: middle;\n",
       "    }\n",
       "\n",
       "    .dataframe tbody tr th {\n",
       "        vertical-align: top;\n",
       "    }\n",
       "\n",
       "    .dataframe thead th {\n",
       "        text-align: right;\n",
       "    }\n",
       "</style>\n",
       "<table border=\"1\" class=\"dataframe\">\n",
       "  <thead>\n",
       "    <tr style=\"text-align: right;\">\n",
       "      <th></th>\n",
       "      <th>CRIM</th>\n",
       "      <th>ZN</th>\n",
       "      <th>INDUS</th>\n",
       "      <th>CHAS</th>\n",
       "      <th>NOX</th>\n",
       "      <th>RM</th>\n",
       "      <th>AGE</th>\n",
       "      <th>DIS</th>\n",
       "      <th>RAD</th>\n",
       "      <th>TAX</th>\n",
       "      <th>PTRATIO</th>\n",
       "      <th>B</th>\n",
       "      <th>LSTAT</th>\n",
       "    </tr>\n",
       "  </thead>\n",
       "  <tbody>\n",
       "    <tr>\n",
       "      <th>0</th>\n",
       "      <td>0.00632</td>\n",
       "      <td>18.0</td>\n",
       "      <td>2.31</td>\n",
       "      <td>0.0</td>\n",
       "      <td>0.538</td>\n",
       "      <td>6.575</td>\n",
       "      <td>65.2</td>\n",
       "      <td>4.0900</td>\n",
       "      <td>1.0</td>\n",
       "      <td>296.0</td>\n",
       "      <td>15.3</td>\n",
       "      <td>396.90</td>\n",
       "      <td>4.98</td>\n",
       "    </tr>\n",
       "    <tr>\n",
       "      <th>1</th>\n",
       "      <td>0.02731</td>\n",
       "      <td>0.0</td>\n",
       "      <td>7.07</td>\n",
       "      <td>0.0</td>\n",
       "      <td>0.469</td>\n",
       "      <td>6.421</td>\n",
       "      <td>78.9</td>\n",
       "      <td>4.9671</td>\n",
       "      <td>2.0</td>\n",
       "      <td>242.0</td>\n",
       "      <td>17.8</td>\n",
       "      <td>396.90</td>\n",
       "      <td>9.14</td>\n",
       "    </tr>\n",
       "    <tr>\n",
       "      <th>2</th>\n",
       "      <td>0.02729</td>\n",
       "      <td>0.0</td>\n",
       "      <td>7.07</td>\n",
       "      <td>0.0</td>\n",
       "      <td>0.469</td>\n",
       "      <td>7.185</td>\n",
       "      <td>61.1</td>\n",
       "      <td>4.9671</td>\n",
       "      <td>2.0</td>\n",
       "      <td>242.0</td>\n",
       "      <td>17.8</td>\n",
       "      <td>392.83</td>\n",
       "      <td>4.03</td>\n",
       "    </tr>\n",
       "    <tr>\n",
       "      <th>3</th>\n",
       "      <td>0.03237</td>\n",
       "      <td>0.0</td>\n",
       "      <td>2.18</td>\n",
       "      <td>0.0</td>\n",
       "      <td>0.458</td>\n",
       "      <td>6.998</td>\n",
       "      <td>45.8</td>\n",
       "      <td>6.0622</td>\n",
       "      <td>3.0</td>\n",
       "      <td>222.0</td>\n",
       "      <td>18.7</td>\n",
       "      <td>394.63</td>\n",
       "      <td>2.94</td>\n",
       "    </tr>\n",
       "    <tr>\n",
       "      <th>4</th>\n",
       "      <td>0.06905</td>\n",
       "      <td>0.0</td>\n",
       "      <td>2.18</td>\n",
       "      <td>0.0</td>\n",
       "      <td>0.458</td>\n",
       "      <td>7.147</td>\n",
       "      <td>54.2</td>\n",
       "      <td>6.0622</td>\n",
       "      <td>3.0</td>\n",
       "      <td>222.0</td>\n",
       "      <td>18.7</td>\n",
       "      <td>396.90</td>\n",
       "      <td>5.33</td>\n",
       "    </tr>\n",
       "  </tbody>\n",
       "</table>\n",
       "</div>"
      ],
      "text/plain": [
       "      CRIM    ZN  INDUS  CHAS    NOX     RM   AGE     DIS  RAD    TAX  \\\n",
       "0  0.00632  18.0   2.31   0.0  0.538  6.575  65.2  4.0900  1.0  296.0   \n",
       "1  0.02731   0.0   7.07   0.0  0.469  6.421  78.9  4.9671  2.0  242.0   \n",
       "2  0.02729   0.0   7.07   0.0  0.469  7.185  61.1  4.9671  2.0  242.0   \n",
       "3  0.03237   0.0   2.18   0.0  0.458  6.998  45.8  6.0622  3.0  222.0   \n",
       "4  0.06905   0.0   2.18   0.0  0.458  7.147  54.2  6.0622  3.0  222.0   \n",
       "\n",
       "   PTRATIO       B  LSTAT  \n",
       "0     15.3  396.90   4.98  \n",
       "1     17.8  396.90   9.14  \n",
       "2     17.8  392.83   4.03  \n",
       "3     18.7  394.63   2.94  \n",
       "4     18.7  396.90   5.33  "
      ]
     },
     "execution_count": 6,
     "metadata": {},
     "output_type": "execute_result"
    }
   ],
   "source": [
    "(type your code here)"
   ]
  },
  {
   "cell_type": "markdown",
   "id": "2df61c03",
   "metadata": {},
   "source": [
    "trgを5点目まで表示する / Show up to 5-point row of data"
   ]
  },
  {
   "cell_type": "code",
   "execution_count": 7,
   "id": "c1e70a56",
   "metadata": {},
   "outputs": [
    {
     "data": {
      "text/plain": [
       "array([24. , 21.6, 34.7, 33.4, 36.2])"
      ]
     },
     "execution_count": 7,
     "metadata": {},
     "output_type": "execute_result"
    }
   ],
   "source": [
    "(type your code here)"
   ]
  },
  {
   "cell_type": "markdown",
   "id": "90d4c1cc",
   "metadata": {},
   "source": [
    "dfとtrgの分布をグラフ表示して確認する。trgのカラーは赤 / Check the distribution of df and trg by displaying graphs. trg graph color is \"red\"."
   ]
  },
  {
   "cell_type": "code",
   "execution_count": 8,
   "id": "38e7d50c",
   "metadata": {
    "scrolled": true
   },
   "outputs": [
    {
     "data": {
      "image/png": "[encoded data removed]",
      "text/plain": [
       "<Figure size 432x1008 with 14 Axes>"
      ]
     },
     "metadata": {
      "needs_background": "light"
     },
     "output_type": "display_data"
    }
   ],
   "source": [
    "(type your code here)"
   ]
  },
  {
   "cell_type": "markdown",
   "id": "f5e1372c",
   "metadata": {},
   "source": [
    "## 機械学習前　データ分割 / before machine learning, data split"
   ]
  },
  {
   "cell_type": "markdown",
   "id": "54c99e02",
   "metadata": {},
   "source": [
    "データセットを学習用(train)とテスト用(test)に分割する / Split the dataset into training(train) and test(test).\n",
    "- 【学習用】説明変数 X_train, 目的変数 y_train / 【Learning】explanatory(X_train), response variables(y_train)\n",
    "- 【テスト用】説明変数 X_test, 目的変数 y_test / 【Test】explanatory(X_test), response variables(y_test)"
   ]
  },
  {
   "cell_type": "code",
   "execution_count": 9,
   "id": "497131b9",
   "metadata": {},
   "outputs": [
    {
     "name": "stdout",
     "output_type": "stream",
     "text": [
      "original length : 506\n",
      "train length : 379\n",
      "test length : 127\n"
     ]
    }
   ],
   "source": [
    "X_train, X_test, y_train, y_test = train_test_split(df, trg, train_size=0.75, test_size=0.25)\n",
    "print('original length : '+str(len(df)))\n",
    "print('train length : ' + str(len(X_train)))\n",
    "print('test length : ' + str(len(X_test)))"
   ]
  },
  {
   "cell_type": "markdown",
   "id": "311a1d3e",
   "metadata": {},
   "source": []
  },
  {
   "cell_type": "markdown",
   "id": "8f4efb61",
   "metadata": {},
   "source": [
    "## 機械学習を行い、学習したモデルの性能を評価する\n",
    "1. 使用するモデルを決定する。/ Determine which model to use.\n",
    "2. trainデータを使用してモデルを学習させる。 / Use train to train the model.\n",
    "3. テストデータを使用して学習済みモデルから予測値を計算する。<br>\n",
    "   To check the performance of the trained model, computer the predictions using the test data and compare the treue values.\n",
    "4. モデルがどれくらいの出来栄えか？示す（グラフ、統計量）/ Show that how good model? (graph, statistics)"
   ]
  },
  {
   "cell_type": "markdown",
   "id": "748e974b",
   "metadata": {},
   "source": [
    "使用するモデルを決定する。 / Determine which model to use."
   ]
  },
  {
   "cell_type": "code",
   "execution_count": 10,
   "id": "b1db71ac",
   "metadata": {},
   "outputs": [],
   "source": [
    "(type your code here)"
   ]
  },
  {
   "cell_type": "markdown",
   "id": "d3152e69",
   "metadata": {},
   "source": [
    "2.trainデータを使用してモデルを学習させる / Use train to train the model.<br>\n",
    "学習用の説明変数X_trainと目的変数y_trainを使ってmodelを学習させる / Train the model with explanatory(X_train) and response variables(y_train) for training."
   ]
  },
  {
   "cell_type": "code",
   "execution_count": 11,
   "id": "2a30c8a8",
   "metadata": {},
   "outputs": [
    {
     "data": {
      "text/plain": [
       "LinearRegression(copy_X=True, fit_intercept=True, n_jobs=None,\n",
       "         normalize=False)"
      ]
     },
     "execution_count": 11,
     "metadata": {},
     "output_type": "execute_result"
    }
   ],
   "source": [
    "(type your code here)"
   ]
  },
  {
   "cell_type": "markdown",
   "id": "6bb2dcba",
   "metadata": {},
   "source": [
    "学習済みモデルの各変数、係数を確認する。係数ベクトルは.coef、定数項は.interceptで確認できる。<br>\n",
    "Check each variables and coefficients of the trained model.<br>\n",
    "The coefficient vector can be checked with .coef and the constant term can be checked with .intercept."
   ]
  },
  {
   "cell_type": "code",
   "execution_count": 12,
   "id": "8e009e6e",
   "metadata": {},
   "outputs": [
    {
     "name": "stdout",
     "output_type": "stream",
     "text": [
      "Coef = [-1.19480916e-01  5.53778670e-02 -1.15344156e-02  2.59783405e+00\n",
      " -1.35342551e+01  2.63979207e+00  1.28990786e-03 -1.49355828e+00\n",
      "  3.34346099e-01 -1.35897381e-02 -9.24196413e-01  1.07541869e-02\n",
      " -5.69466950e-01]\n",
      "Intercept = 41.36265732763967\n"
     ]
    }
   ],
   "source": [
    "print('Coef =', model.coef_)\n",
    "print('Intercept =', model.intercept_)"
   ]
  },
  {
   "cell_type": "markdown",
   "id": "89f3ac10",
   "metadata": {},
   "source": [
    "3.テストデータを使用して学習済みモデルから予測値を計算する。<br>\n",
    "  To check the performance of the trained model, computer the predictions using the test data and compare the treue values.<br>\n",
    "テストデータのX_testを使用して、これら目的変数の予測値(=y_pred)を計算する。<br>\n",
    "Use the test data to calculate the predicted value(=y_pred) of the objective variable."
   ]
  },
  {
   "cell_type": "code",
   "execution_count": 37,
   "id": "5270fff5",
   "metadata": {},
   "outputs": [],
   "source": [
    "(type your code here)"
   ]
  },
  {
   "cell_type": "markdown",
   "id": "86528020",
   "metadata": {},
   "source": [
    "4.モデルがどれくらいの出来栄えか？示す（グラフ、統計量）/ Show that how good model? (graph, statistics)<br>\n",
    "4-1.散布図を書いて予測値（y_pred)が真値（y_test）にどの程度近いのか確認する。<br>\n",
    "Draw a scatter plot to check how close the predicted values are to the true values. (closeなのか？）"
   ]
  },
  {
   "cell_type": "code",
   "execution_count": 50,
   "id": "b96a17d6",
   "metadata": {},
   "outputs": [
    {
     "data": {
      "text/plain": [
       "<matplotlib.legend.Legend at 0x3fff5973d2d0>"
      ]
     },
     "execution_count": 50,
     "metadata": {},
     "output_type": "execute_result"
    },
    {
     "data": {
      "image/png": "[encoded data removed]",
      "text/plain": [
       "<Figure size 1080x360 with 1 Axes>"
      ]
     },
     "metadata": {
      "needs_background": "light"
     },
     "output_type": "display_data"
    }
   ],
   "source": [
    "(type your code here)"
   ]
  },
  {
   "cell_type": "markdown",
   "id": "dfa26efd",
   "metadata": {},
   "source": [
    "よく合っている点もあれば、あっていない点もある。/ There are some points that fit well, and some that do not. <br>\n",
    "各予測値がどの程度誤差を持っているか計算する。/ Calculate how much error each prediction has.<br>\n",
    "計算結果をerrとする。 the calcurate result is err."
   ]
  },
  {
   "cell_type": "code",
   "execution_count": 51,
   "id": "fc9124f6",
   "metadata": {},
   "outputs": [],
   "source": [
    "(type your code here)"
   ]
  },
  {
   "cell_type": "markdown",
   "id": "ba050ea7",
   "metadata": {},
   "source": [
    "各予測値の誤差errも一緒にプロットする。/ The error(err) of each prediction is also plotted together."
   ]
  },
  {
   "cell_type": "code",
   "execution_count": 52,
   "id": "c87853ac",
   "metadata": {},
   "outputs": [
    {
     "data": {
      "text/plain": [
       "<matplotlib.legend.Legend at 0x3fff59626ed0>"
      ]
     },
     "execution_count": 52,
     "metadata": {},
     "output_type": "execute_result"
    },
    {
     "data": {
      "image/png": "[encoded data removed]",
      "text/plain": [
       "<Figure size 1080x360 with 1 Axes>"
      ]
     },
     "metadata": {
      "needs_background": "light"
     },
     "output_type": "display_data"
    }
   ],
   "source": [
    "(type your code here)"
   ]
  },
  {
   "cell_type": "markdown",
   "id": "284bc51b",
   "metadata": {},
   "source": [
    "4.モデルがどれくらいの出来栄えか？示す（グラフ、統計量）/ Show that how good model? (graph, statistics)<br>\n",
    "4-2.定量的な評価指標としてよく使われる「決定係数」を調べる。/ Investigate the \"coefficient of determination,\" which is often used as a quantitative evaluation index.<br>\n",
    "- 決定係数は推定された回帰式の当てはまりの良さ（度合）を表す。/ The coefficient of determination expresses the goodness of fit of the estimated regression equation (degree).\n",
    "- 一般的にR^2と書かれる。値は0~1の範囲を取る / It is generally written as R^2. The value can range from 0 to 1.\n",
    "- 1に近いほど良く当てはまっていることを示す / The closer the value is to 1, the better the fit is."
   ]
  },
  {
   "cell_type": "code",
   "execution_count": 54,
   "id": "f07e8413",
   "metadata": {},
   "outputs": [
    {
     "name": "stdout",
     "output_type": "stream",
     "text": [
      "R2 train : 0.7295730436738324\n",
      "R2 test : 0.7542227445957322\n"
     ]
    }
   ],
   "source": [
    "print('R2 train : '+str(model.score(X_train, y_train)))\n",
    "print('R2 test : '+str(model.score(X_test, y_test)))"
   ]
  },
  {
   "cell_type": "markdown",
   "id": "8812c22b",
   "metadata": {},
   "source": [
    "### Question\n",
    "1. モデルの出来栄えを示すとき、グラフを使った場合、決定係数を使った場合の良いところを述べてください<br>\n",
    "Describe the good points of using graphs and a coefficient of determination when show that how good model."
   ]
  },
  {
   "cell_type": "markdown",
   "id": "1f31b3e7",
   "metadata": {},
   "source": [
    "### 様々な機械学習 / Varaety of Machine Learning\n",
    "1. ランダムフォレスト / Random Forest\n",
    "2. ニューラルネットワーク / Neural Network"
   ]
  },
  {
   "cell_type": "markdown",
   "id": "ec6b867d",
   "metadata": {},
   "source": [
    "1.ランダムフォレスト / Random Forest\n",
    "ランダムフォレストのモデルを作る / Make a Random Forest model."
   ]
  },
  {
   "cell_type": "code",
   "execution_count": 55,
   "id": "c1be8c4c",
   "metadata": {},
   "outputs": [],
   "source": [
    "NEST = 10\n",
    "MAXD = 3\n",
    "model_rfr = RandomForestRegressor(n_estimators=NEST, max_depth=MAXD)"
   ]
  },
  {
   "cell_type": "markdown",
   "id": "ad56d0e6",
   "metadata": {},
   "source": [
    "ランダムフォレストのモデルを学習する / Training a Random Forest model."
   ]
  },
  {
   "cell_type": "code",
   "execution_count": 56,
   "id": "9075d68a",
   "metadata": {},
   "outputs": [
    {
     "data": {
      "text/plain": [
       "RandomForestRegressor(bootstrap=True, criterion='mse', max_depth=3,\n",
       "           max_features='auto', max_leaf_nodes=None,\n",
       "           min_impurity_decrease=0.0, min_impurity_split=None,\n",
       "           min_samples_leaf=1, min_samples_split=2,\n",
       "           min_weight_fraction_leaf=0.0, n_estimators=10, n_jobs=None,\n",
       "           oob_score=False, random_state=None, verbose=0, warm_start=False)"
      ]
     },
     "execution_count": 56,
     "metadata": {},
     "output_type": "execute_result"
    }
   ],
   "source": [
    "(type your code here)"
   ]
  },
  {
   "cell_type": "markdown",
   "id": "3f0986c9",
   "metadata": {},
   "source": [
    "学習したランダムフォレストのモデルを評価する。/ Evaluate the trained Random Forest model."
   ]
  },
  {
   "cell_type": "code",
   "execution_count": 59,
   "id": "348bbc23",
   "metadata": {},
   "outputs": [
    {
     "name": "stdout",
     "output_type": "stream",
     "text": [
      "R2 train :  0.8554179350528515\n",
      "R2 test :  0.8554975916266726\n"
     ]
    },
    {
     "name": "stderr",
     "output_type": "stream",
     "text": [
      "/usr/local/lib/python3.7/site-packages/sklearn/ensemble/base.py:158: DeprecationWarning: `np.int` is a deprecated alias for the builtin `int`. To silence this warning, use `int` by itself. Doing this will not modify any behavior and is safe. When replacing `np.int`, you may wish to use e.g. `np.int64` or `np.int32` to specify the precision. If you wish to review your current use, check the release note link for additional information.\n",
      "Deprecated in NumPy 1.20; for more details and guidance: https://numpy.org/devdocs/release/1.20.0-notes.html#deprecations\n",
      "  dtype=np.int)\n",
      "/usr/local/lib/python3.7/site-packages/sklearn/ensemble/base.py:158: DeprecationWarning: `np.int` is a deprecated alias for the builtin `int`. To silence this warning, use `int` by itself. Doing this will not modify any behavior and is safe. When replacing `np.int`, you may wish to use e.g. `np.int64` or `np.int32` to specify the precision. If you wish to review your current use, check the release note link for additional information.\n",
      "Deprecated in NumPy 1.20; for more details and guidance: https://numpy.org/devdocs/release/1.20.0-notes.html#deprecations\n",
      "  dtype=np.int)\n"
     ]
    }
   ],
   "source": [
    "(type your code here)"
   ]
  },
  {
   "cell_type": "markdown",
   "id": "22ad9782",
   "metadata": {},
   "source": [
    "2.ニューラルネットワーク / Neural Network<br>\n",
    "ニューラルネットワークのモデルを作る / Make a model of Neural Network."
   ]
  },
  {
   "cell_type": "code",
   "execution_count": 60,
   "id": "7f03b6c3",
   "metadata": {},
   "outputs": [],
   "source": [
    "model_nn = MLPRegressor(hidden_layer_sizes=(100), max_iter=10000, early_stopping=True)"
   ]
  },
  {
   "cell_type": "markdown",
   "id": "63d0143f",
   "metadata": {},
   "source": [
    "ニューラルネットワークのモデルを学習する / Training a Neural Network model."
   ]
  },
  {
   "cell_type": "code",
   "execution_count": 61,
   "id": "335f2d47",
   "metadata": {},
   "outputs": [
    {
     "data": {
      "text/plain": [
       "MLPRegressor(activation='relu', alpha=0.0001, batch_size='auto', beta_1=0.9,\n",
       "       beta_2=0.999, early_stopping=True, epsilon=1e-08,\n",
       "       hidden_layer_sizes=100, learning_rate='constant',\n",
       "       learning_rate_init=0.001, max_iter=10000, momentum=0.9,\n",
       "       n_iter_no_change=10, nesterovs_momentum=True, power_t=0.5,\n",
       "       random_state=None, shuffle=True, solver='adam', tol=0.0001,\n",
       "       validation_fraction=0.1, verbose=False, warm_start=False)"
      ]
     },
     "execution_count": 61,
     "metadata": {},
     "output_type": "execute_result"
    }
   ],
   "source": [
    "(type your code here)"
   ]
  },
  {
   "cell_type": "markdown",
   "id": "c012bc07",
   "metadata": {},
   "source": [
    "学習したニューラルネットワークのモデルを評価する。/ Evaluate the trained Neural Network model."
   ]
  },
  {
   "cell_type": "code",
   "execution_count": 62,
   "id": "ce416f8f",
   "metadata": {},
   "outputs": [
    {
     "name": "stdout",
     "output_type": "stream",
     "text": [
      "R2 train :  0.6726180421397282\n",
      "R2 test :  0.6958733884936164\n"
     ]
    }
   ],
   "source": [
    "(type your code here)"
   ]
  },
  {
   "cell_type": "markdown",
   "id": "39ba0f49",
   "metadata": {},
   "source": [
    "### Question\n",
    "2. ランダムフォレストとはどのようなモデルか？述べてください。<br>\n",
    "What kind of model is Random Forest? Please describe it.\n"
   ]
  },
  {
   "cell_type": "markdown",
   "id": "30082f00",
   "metadata": {},
   "source": [
    "3. 選んだモデルに対して、正答率を上げる工夫をしてみましょう<br>\n",
    "①モデルを選ぶ　②データに対して工夫する　③ハイパーパラメータを工夫する<br>\n",
    "モデル→線形回帰、ランダムフォレスト、ニューラルネットワーク　等<br>\n",
    "Let's try to increase the rate of correct answers for the selected model yourself.<br>\n",
    "(1) Select a model (2) Devise the method for the data (3) Devise the method for the hyperparameters<br>\n",
    "models -> Linear Regression, Random Forest and Neural Netowark, etc."
   ]
  },
  {
   "cell_type": "code",
   "execution_count": null,
   "id": "fd27a47d",
   "metadata": {},
   "outputs": [],
   "source": []
  }
 ],
 "metadata": {
  "kernelspec": {
   "display_name": "Python 3",
   "language": "python",
   "name": "python3"
  },
  "language_info": {
   "codemirror_mode": {
    "name": "ipython",
    "version": 3
   },
   "file_extension": ".py",
   "mimetype": "text/x-python",
   "name": "python",
   "nbconvert_exporter": "python",
   "pygments_lexer": "ipython3",
   "version": "3.7.9"
  }
 },
 "nbformat": 4,
 "nbformat_minor": 5
}
